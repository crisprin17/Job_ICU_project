{
 "cells": [
  {
   "cell_type": "code",
   "execution_count": 1,
   "metadata": {},
   "outputs": [],
   "source": [
    "import pandas as pd"
   ]
  },
  {
   "cell_type": "code",
   "execution_count": 2,
   "metadata": {},
   "outputs": [],
   "source": [
    "map_of_state = {'Boston': 'MA',\n",
    "                'Chicago': 'IL',\n",
    "                'Los Angeles': 'CA',\n",
    "                'New York': 'NY',\n",
    "                'Washington DC': 'DC',\n",
    "                'San Francisco': 'CA',\n",
    "                'SF': 'CA', \n",
    "                'Montreal': 'Quebec',\n",
    "               'Seattle': 'WA' ,\n",
    "                'Nashville': 'TN',\n",
    "                'Denver': 'CO',\n",
    "                'Atlanta': 'GA',\n",
    "                'OC': 'CA',\n",
    "                'San Fran': 'CA',\n",
    "                'Houston': 'TX',\n",
    "                'San Diego': 'CA',\n",
    "                'Boulder':  'CO',\n",
    "                'Dallas': 'TX',\n",
    "                'Philadelphia': 'PA',\n",
    "                'LA': 'CA',\n",
    "                'Austin': 'TX',\n",
    "                'South Florida': 'FL',\n",
    "                'NYC': 'NY'}\n",
    "\n",
    "map_of_country = {'CA': 'USA',\n",
    "                  'IL': 'USA',\n",
    "                  'MA': 'USA',\n",
    "                  'NY': 'USA',\n",
    "                  'DC': 'USA',\n",
    "                  'WA': 'USA',\n",
    "                  'TN': 'USA',\n",
    "                  'CO': 'USA',\n",
    "                  'GA': 'USA',\n",
    "                  'TX': 'USA',\n",
    "                  'PA': 'USA',\n",
    "                  'FL': 'USA',\n",
    "                  'Quebec': 'Canada'}\n",
    "\n",
    "map_job_to_department = {'Photographer' : 'Photography', 'Operations': 'Operations', 'Sales': 'Sales', 'Real Estate':'Real Estate',\n",
    "                        'Accounts Receivable Manager': 'Finance and Accounting' , 'Account Executive': 'Sales',\n",
    "                        'Talent': 'People', 'Sourcing': 'Design and Supply Chain', 'Quality': 'Quality Assurance',\n",
    "                         'Product Designer' : 'Design','Customer Success' : 'Customer Success','Director of People' : 'Human Resources',\n",
    "                         'Human Resources' : 'Human Resources',\n",
    "                         'Engineering' : 'Engineering','Engineer' : 'Engineering',\n",
    "                         'Implementation' : 'Implementation', 'Designer': 'Designer', 'Marketing': 'Marketing',\n",
    "                        'Consultant':'Sales', 'Recruiter': 'Recruiter', 'Product Manager': 'Product Manager'}"
   ]
  },
  {
   "cell_type": "code",
   "execution_count": 3,
   "metadata": {},
   "outputs": [],
   "source": [
    "def mapping_incomplete_string(df: pd.DataFrame, \n",
    "                              dictionary_with_mapping: dict, \n",
    "                              column_to_map: str, \n",
    "                              column_to_be_mapped: str) -> pd.DataFrame:\n",
    "    pat = r'({})'.format('|'.join(dictionary_with_mapping.keys()))\n",
    "    extracted = df[column_to_map].str.extract(pat, expand=False).dropna()\n",
    "    df[column_to_be_mapped] = extracted.apply(lambda x: dictionary_with_mapping[x]).reindex(df.index)\n",
    "    return df"
   ]
  },
  {
   "cell_type": "code",
   "execution_count": 4,
   "metadata": {},
   "outputs": [],
   "source": [
    "dataset_first_template = pd.read_excel('JOB_ICU.xlsx', sheet_name=0)\n",
    "dataset_second_template = pd.read_excel('JOB_ICU.xlsx', sheet_name=2)\n",
    "dataset_third_template = pd.read_excel('JOB_ICU.xlsx', sheet_name=4)\n",
    "dataset_fourth_template = pd.read_excel('JOB_ICU.xlsx', sheet_name=6)"
   ]
  },
  {
   "cell_type": "code",
   "execution_count": 5,
   "metadata": {},
   "outputs": [],
   "source": [
    "dataset_first_template.dropna(subset=['List'], inplace=True)"
   ]
  },
  {
   "cell_type": "code",
   "execution_count": 6,
   "metadata": {},
   "outputs": [
    {
     "name": "stderr",
     "output_type": "stream",
     "text": [
      "/opt/anaconda3/lib/python3.7/site-packages/ipykernel_launcher.py:1: FutureWarning: Columnar iteration over characters will be deprecated in future releases.\n",
      "  \"\"\"Entry point for launching an IPython kernel.\n",
      "/opt/anaconda3/lib/python3.7/site-packages/ipykernel_launcher.py:2: FutureWarning: Columnar iteration over characters will be deprecated in future releases.\n",
      "  \n",
      "/opt/anaconda3/lib/python3.7/site-packages/ipykernel_launcher.py:3: FutureWarning: Columnar iteration over characters will be deprecated in future releases.\n",
      "  This is separate from the ipykernel package so we can avoid doing imports until\n"
     ]
    }
   ],
   "source": [
    "dataset_first_template['First Name'], dataset_first_template['rest'] = dataset_first_template['List'].str.split(' ', 1).str\n",
    "dataset_first_template['Last Name'], dataset_first_template['Job Title'] = dataset_first_template['rest'].str.split(' ', 1).str\n",
    "dataset_first_template['Job'], dataset_first_template['Location'] = dataset_first_template['Job Title'].str.split('(', 1).str\n"
   ]
  },
  {
   "cell_type": "code",
   "execution_count": 7,
   "metadata": {},
   "outputs": [],
   "source": [
    "dataset_first_template['Location'] = dataset_first_template['Location'].str.strip(')')"
   ]
  },
  {
   "cell_type": "code",
   "execution_count": 8,
   "metadata": {},
   "outputs": [],
   "source": [
    "dataset_first_template['State'] = dataset_first_template['Location'].map(map_of_state)\n",
    "dataset_first_template['Country'] = dataset_first_template['State'].map(map_of_country)\n",
    "dataset_first_template['Department'] = dataset_first_template['Job Title'].map(map_job_to_department)"
   ]
  },
  {
   "cell_type": "code",
   "execution_count": 9,
   "metadata": {},
   "outputs": [],
   "source": [
    "dataset_first_template = dataset_first_template[['First Name', 'Last Name', 'Job', 'Location', 'State', 'Country', 'Linkedin']]"
   ]
  },
  {
   "cell_type": "code",
   "execution_count": 10,
   "metadata": {},
   "outputs": [],
   "source": [
    "dataset_second_template['State'] = dataset_second_template['Location'].map(map_of_state)\n",
    "dataset_second_template['Country'] = dataset_second_template['State'].map(map_of_country)"
   ]
  },
  {
   "cell_type": "code",
   "execution_count": 11,
   "metadata": {},
   "outputs": [
    {
     "name": "stderr",
     "output_type": "stream",
     "text": [
      "/opt/anaconda3/lib/python3.7/site-packages/ipykernel_launcher.py:1: FutureWarning: Columnar iteration over characters will be deprecated in future releases.\n",
      "  \"\"\"Entry point for launching an IPython kernel.\n"
     ]
    }
   ],
   "source": [
    "dataset_third_template['Location'], dataset_third_template['State'] = dataset_third_template['Current Location / City'].str.split(' ', 1).str"
   ]
  },
  {
   "cell_type": "code",
   "execution_count": 12,
   "metadata": {},
   "outputs": [
    {
     "name": "stderr",
     "output_type": "stream",
     "text": [
      "/opt/anaconda3/lib/python3.7/site-packages/ipykernel_launcher.py:1: FutureWarning: Columnar iteration over characters will be deprecated in future releases.\n",
      "  \"\"\"Entry point for launching an IPython kernel.\n"
     ]
    }
   ],
   "source": [
    "dataset_third_template['First Name'], dataset_third_template['Last Name'] = dataset_third_template['Name'].str.split(' ', 1).str\n"
   ]
  },
  {
   "cell_type": "code",
   "execution_count": 13,
   "metadata": {},
   "outputs": [],
   "source": [
    "dataset_third_template['Location']  = dataset_third_template['Location'].str.strip(',')\n",
    "dataset_third_template['Country'] = dataset_third_template['State'].map(map_of_country)"
   ]
  },
  {
   "cell_type": "code",
   "execution_count": 14,
   "metadata": {},
   "outputs": [
    {
     "name": "stderr",
     "output_type": "stream",
     "text": [
      "/opt/anaconda3/lib/python3.7/site-packages/ipykernel_launcher.py:1: FutureWarning: Columnar iteration over characters will be deprecated in future releases.\n",
      "  \"\"\"Entry point for launching an IPython kernel.\n"
     ]
    }
   ],
   "source": [
    "dataset_fourth_template['First Name'], dataset_fourth_template['Last Name'] = dataset_fourth_template['Name'].str.split(' ', 1).str\n"
   ]
  },
  {
   "cell_type": "code",
   "execution_count": 15,
   "metadata": {},
   "outputs": [],
   "source": [
    "dataset_fourth_template = mapping_incomplete_string(df=dataset_fourth_template, \n",
    "                                                    dictionary_with_mapping=map_of_state, \n",
    "                                                    column_to_map='Location',\n",
    "                                                    column_to_be_mapped='State')"
   ]
  },
  {
   "cell_type": "code",
   "execution_count": 16,
   "metadata": {},
   "outputs": [],
   "source": [
    "dataset_fourth_template = mapping_incomplete_string(df=dataset_fourth_template, \n",
    "                                                    dictionary_with_mapping=map_of_country, \n",
    "                                                    column_to_map='State',\n",
    "                                                    column_to_be_mapped='Country')"
   ]
  },
  {
   "cell_type": "markdown",
   "metadata": {},
   "source": [
    "# Join dataframe"
   ]
  },
  {
   "cell_type": "code",
   "execution_count": 17,
   "metadata": {},
   "outputs": [],
   "source": [
    "dataset_first_template['Department'] = ''\n",
    "dataset_first_template.rename(columns={'Job': 'Job Title', 'Linkedin': 'LinkedIn URL'}, inplace=True)\n",
    "dataset_first_template['Email'] = ''"
   ]
  },
  {
   "cell_type": "code",
   "execution_count": 18,
   "metadata": {},
   "outputs": [],
   "source": [
    "dataset_second_template.rename(columns={'Linkedin': 'LinkedIn URL'}, inplace=True)\n",
    "dataset_second_template['Email'] = ''\n",
    "dataset_second_template = dataset_second_template[['First Name', 'Last Name', 'Job Title', 'Department', 'Location', 'State', 'Country', 'LinkedIn URL', 'Email']]\n"
   ]
  },
  {
   "cell_type": "code",
   "execution_count": 19,
   "metadata": {},
   "outputs": [],
   "source": [
    "dataset_third_template.rename(columns={'Personal Email Address':'Email', 'Role / Title at CarGurus': 'Job Title','Department / Business Unit at CG':'Department', 'LinkedIn Profile URL': 'LinkedIn URL'}, inplace=True)\n",
    "dataset_third_template = dataset_third_template[['First Name', 'Last Name', 'Job Title', 'Department', 'Location', 'State', 'Country', 'LinkedIn URL', 'Email']]\n"
   ]
  },
  {
   "cell_type": "code",
   "execution_count": 20,
   "metadata": {},
   "outputs": [],
   "source": [
    "dataset_fourth_template.rename(columns={'Area(s) of Interest': 'Job Title'}, inplace=True)\n",
    "dataset_fourth_template['Department'] = dataset_fourth_template['Job Title'].map(map_job_to_department)\n",
    "dataset_fourth_template = dataset_fourth_template[['First Name', 'Last Name', 'Job Title', 'Department', 'Location', 'State', 'Country', 'LinkedIn URL', 'Email']]\n"
   ]
  },
  {
   "cell_type": "code",
   "execution_count": 21,
   "metadata": {},
   "outputs": [
    {
     "data": {
      "text/html": [
       "<div>\n",
       "<style scoped>\n",
       "    .dataframe tbody tr th:only-of-type {\n",
       "        vertical-align: middle;\n",
       "    }\n",
       "\n",
       "    .dataframe tbody tr th {\n",
       "        vertical-align: top;\n",
       "    }\n",
       "\n",
       "    .dataframe thead th {\n",
       "        text-align: right;\n",
       "    }\n",
       "</style>\n",
       "<table border=\"1\" class=\"dataframe\">\n",
       "  <thead>\n",
       "    <tr style=\"text-align: right;\">\n",
       "      <th></th>\n",
       "      <th>First Name</th>\n",
       "      <th>Last Name</th>\n",
       "      <th>Job Title</th>\n",
       "      <th>Location</th>\n",
       "      <th>State</th>\n",
       "      <th>Country</th>\n",
       "      <th>LinkedIn URL</th>\n",
       "      <th>Department</th>\n",
       "      <th>Email</th>\n",
       "    </tr>\n",
       "  </thead>\n",
       "  <tbody>\n",
       "    <tr>\n",
       "      <th>0</th>\n",
       "      <td>Peter</td>\n",
       "      <td>Yep</td>\n",
       "      <td>QA Engineer</td>\n",
       "      <td>SF</td>\n",
       "      <td>CA</td>\n",
       "      <td>USA</td>\n",
       "      <td>https://www.linkedin.com/in/peter-yep-38072aa3/</td>\n",
       "      <td></td>\n",
       "      <td></td>\n",
       "    </tr>\n",
       "    <tr>\n",
       "      <th>1</th>\n",
       "      <td>David</td>\n",
       "      <td>Randolph</td>\n",
       "      <td>Scrum Master</td>\n",
       "      <td>SF</td>\n",
       "      <td>CA</td>\n",
       "      <td>USA</td>\n",
       "      <td>https://www.linkedin.com/in/david-g-randolph/</td>\n",
       "      <td></td>\n",
       "      <td></td>\n",
       "    </tr>\n",
       "  </tbody>\n",
       "</table>\n",
       "</div>"
      ],
      "text/plain": [
       "  First Name Last Name      Job Title Location State Country  \\\n",
       "0      Peter       Yep   QA Engineer        SF    CA     USA   \n",
       "1      David  Randolph  Scrum Master        SF    CA     USA   \n",
       "\n",
       "                                      LinkedIn URL Department Email  \n",
       "0  https://www.linkedin.com/in/peter-yep-38072aa3/                   \n",
       "1    https://www.linkedin.com/in/david-g-randolph/                   "
      ]
     },
     "execution_count": 21,
     "metadata": {},
     "output_type": "execute_result"
    }
   ],
   "source": [
    "dataset_first_template.head(2)"
   ]
  },
  {
   "cell_type": "code",
   "execution_count": 22,
   "metadata": {},
   "outputs": [
    {
     "data": {
      "text/html": [
       "<div>\n",
       "<style scoped>\n",
       "    .dataframe tbody tr th:only-of-type {\n",
       "        vertical-align: middle;\n",
       "    }\n",
       "\n",
       "    .dataframe tbody tr th {\n",
       "        vertical-align: top;\n",
       "    }\n",
       "\n",
       "    .dataframe thead th {\n",
       "        text-align: right;\n",
       "    }\n",
       "</style>\n",
       "<table border=\"1\" class=\"dataframe\">\n",
       "  <thead>\n",
       "    <tr style=\"text-align: right;\">\n",
       "      <th></th>\n",
       "      <th>First Name</th>\n",
       "      <th>Last Name</th>\n",
       "      <th>Job Title</th>\n",
       "      <th>Department</th>\n",
       "      <th>Location</th>\n",
       "      <th>State</th>\n",
       "      <th>Country</th>\n",
       "      <th>LinkedIn URL</th>\n",
       "      <th>Email</th>\n",
       "    </tr>\n",
       "  </thead>\n",
       "  <tbody>\n",
       "    <tr>\n",
       "      <th>0</th>\n",
       "      <td>Corey</td>\n",
       "      <td>Sherman</td>\n",
       "      <td>Photographer</td>\n",
       "      <td>Photography</td>\n",
       "      <td>Boston</td>\n",
       "      <td>MA</td>\n",
       "      <td>USA</td>\n",
       "      <td>https://www.linkedin.com/in/coreyjsherman/</td>\n",
       "      <td></td>\n",
       "    </tr>\n",
       "    <tr>\n",
       "      <th>1</th>\n",
       "      <td>Christopher</td>\n",
       "      <td>Noris</td>\n",
       "      <td>Operations Associate</td>\n",
       "      <td>Operations</td>\n",
       "      <td>Boston</td>\n",
       "      <td>MA</td>\n",
       "      <td>USA</td>\n",
       "      <td>NaN</td>\n",
       "      <td></td>\n",
       "    </tr>\n",
       "  </tbody>\n",
       "</table>\n",
       "</div>"
      ],
      "text/plain": [
       "    First Name Last Name             Job Title   Department Location State  \\\n",
       "0        Corey   Sherman          Photographer  Photography   Boston    MA   \n",
       "1  Christopher     Noris  Operations Associate   Operations   Boston    MA   \n",
       "\n",
       "  Country                                LinkedIn URL Email  \n",
       "0     USA  https://www.linkedin.com/in/coreyjsherman/        \n",
       "1     USA                                         NaN        "
      ]
     },
     "execution_count": 22,
     "metadata": {},
     "output_type": "execute_result"
    }
   ],
   "source": [
    "dataset_second_template.head(2)\n"
   ]
  },
  {
   "cell_type": "code",
   "execution_count": 23,
   "metadata": {},
   "outputs": [
    {
     "data": {
      "text/html": [
       "<div>\n",
       "<style scoped>\n",
       "    .dataframe tbody tr th:only-of-type {\n",
       "        vertical-align: middle;\n",
       "    }\n",
       "\n",
       "    .dataframe tbody tr th {\n",
       "        vertical-align: top;\n",
       "    }\n",
       "\n",
       "    .dataframe thead th {\n",
       "        text-align: right;\n",
       "    }\n",
       "</style>\n",
       "<table border=\"1\" class=\"dataframe\">\n",
       "  <thead>\n",
       "    <tr style=\"text-align: right;\">\n",
       "      <th></th>\n",
       "      <th>First Name</th>\n",
       "      <th>Last Name</th>\n",
       "      <th>Job Title</th>\n",
       "      <th>Department</th>\n",
       "      <th>Location</th>\n",
       "      <th>State</th>\n",
       "      <th>Country</th>\n",
       "      <th>LinkedIn URL</th>\n",
       "      <th>Email</th>\n",
       "    </tr>\n",
       "  </thead>\n",
       "  <tbody>\n",
       "    <tr>\n",
       "      <th>0</th>\n",
       "      <td>Melissa</td>\n",
       "      <td>Skerry</td>\n",
       "      <td>Senior Customer Success Specialist</td>\n",
       "      <td>Customer Success</td>\n",
       "      <td>Boston</td>\n",
       "      <td>MA</td>\n",
       "      <td>USA</td>\n",
       "      <td>NaN</td>\n",
       "      <td>Mskerry5@gmail.com</td>\n",
       "    </tr>\n",
       "    <tr>\n",
       "      <th>1</th>\n",
       "      <td>Deanna</td>\n",
       "      <td>Craveiro</td>\n",
       "      <td>Customer Support Team Lead</td>\n",
       "      <td>Customer Success</td>\n",
       "      <td>Beverly</td>\n",
       "      <td>MA</td>\n",
       "      <td>USA</td>\n",
       "      <td>http://linkedin.com/in/deannacraveiro</td>\n",
       "      <td>dcataldo02@gmail.com</td>\n",
       "    </tr>\n",
       "  </tbody>\n",
       "</table>\n",
       "</div>"
      ],
      "text/plain": [
       "  First Name Last Name                            Job Title  \\\n",
       "0    Melissa    Skerry  Senior Customer Success Specialist    \n",
       "1     Deanna  Craveiro           Customer Support Team Lead   \n",
       "\n",
       "          Department Location State Country  \\\n",
       "0  Customer Success    Boston    MA     USA   \n",
       "1   Customer Success  Beverly    MA     USA   \n",
       "\n",
       "                            LinkedIn URL                 Email  \n",
       "0                                    NaN    Mskerry5@gmail.com  \n",
       "1  http://linkedin.com/in/deannacraveiro  dcataldo02@gmail.com  "
      ]
     },
     "execution_count": 23,
     "metadata": {},
     "output_type": "execute_result"
    }
   ],
   "source": [
    "dataset_third_template.head(2)"
   ]
  },
  {
   "cell_type": "code",
   "execution_count": 24,
   "metadata": {},
   "outputs": [
    {
     "data": {
      "text/html": [
       "<div>\n",
       "<style scoped>\n",
       "    .dataframe tbody tr th:only-of-type {\n",
       "        vertical-align: middle;\n",
       "    }\n",
       "\n",
       "    .dataframe tbody tr th {\n",
       "        vertical-align: top;\n",
       "    }\n",
       "\n",
       "    .dataframe thead th {\n",
       "        text-align: right;\n",
       "    }\n",
       "</style>\n",
       "<table border=\"1\" class=\"dataframe\">\n",
       "  <thead>\n",
       "    <tr style=\"text-align: right;\">\n",
       "      <th></th>\n",
       "      <th>First Name</th>\n",
       "      <th>Last Name</th>\n",
       "      <th>Job Title</th>\n",
       "      <th>Department</th>\n",
       "      <th>Location</th>\n",
       "      <th>State</th>\n",
       "      <th>Country</th>\n",
       "      <th>LinkedIn URL</th>\n",
       "      <th>Email</th>\n",
       "    </tr>\n",
       "  </thead>\n",
       "  <tbody>\n",
       "    <tr>\n",
       "      <th>0</th>\n",
       "      <td>Anthony</td>\n",
       "      <td>Escamilla</td>\n",
       "      <td>Recruiter</td>\n",
       "      <td>Recruiter</td>\n",
       "      <td>Seattle,NYC,San Fran</td>\n",
       "      <td>WA</td>\n",
       "      <td>USA</td>\n",
       "      <td>https://www.linkedin.com/in/anthonyxescamilla/</td>\n",
       "      <td>axescamilla@gmail.com</td>\n",
       "    </tr>\n",
       "    <tr>\n",
       "      <th>1</th>\n",
       "      <td>Axel</td>\n",
       "      <td>Reed</td>\n",
       "      <td>DevOps,Product Manager,Operations,Operations M...</td>\n",
       "      <td>NaN</td>\n",
       "      <td>Nashville</td>\n",
       "      <td>TN</td>\n",
       "      <td>USA</td>\n",
       "      <td>https://www.linkedin.com/in/axelreed/</td>\n",
       "      <td>axelreed3@gmail.com</td>\n",
       "    </tr>\n",
       "  </tbody>\n",
       "</table>\n",
       "</div>"
      ],
      "text/plain": [
       "  First Name  Last Name                                          Job Title  \\\n",
       "0    Anthony  Escamilla                                          Recruiter   \n",
       "1       Axel       Reed  DevOps,Product Manager,Operations,Operations M...   \n",
       "\n",
       "  Department              Location State Country  \\\n",
       "0  Recruiter  Seattle,NYC,San Fran    WA     USA   \n",
       "1        NaN             Nashville    TN     USA   \n",
       "\n",
       "                                     LinkedIn URL                  Email  \n",
       "0  https://www.linkedin.com/in/anthonyxescamilla/  axescamilla@gmail.com  \n",
       "1           https://www.linkedin.com/in/axelreed/    axelreed3@gmail.com  "
      ]
     },
     "execution_count": 24,
     "metadata": {},
     "output_type": "execute_result"
    }
   ],
   "source": [
    "dataset_fourth_template.head(2)\n"
   ]
  },
  {
   "cell_type": "code",
   "execution_count": 25,
   "metadata": {},
   "outputs": [],
   "source": [
    "unite_df = [dataset_first_template, dataset_second_template, dataset_third_template, dataset_fourth_template]"
   ]
  },
  {
   "cell_type": "code",
   "execution_count": 26,
   "metadata": {},
   "outputs": [],
   "source": [
    "final_dataframe = pd.concat(unite_df)"
   ]
  },
  {
   "cell_type": "code",
   "execution_count": 27,
   "metadata": {},
   "outputs": [
    {
     "data": {
      "text/html": [
       "<div>\n",
       "<style scoped>\n",
       "    .dataframe tbody tr th:only-of-type {\n",
       "        vertical-align: middle;\n",
       "    }\n",
       "\n",
       "    .dataframe tbody tr th {\n",
       "        vertical-align: top;\n",
       "    }\n",
       "\n",
       "    .dataframe thead th {\n",
       "        text-align: right;\n",
       "    }\n",
       "</style>\n",
       "<table border=\"1\" class=\"dataframe\">\n",
       "  <thead>\n",
       "    <tr style=\"text-align: right;\">\n",
       "      <th></th>\n",
       "      <th>First Name</th>\n",
       "      <th>Last Name</th>\n",
       "      <th>Job Title</th>\n",
       "      <th>Location</th>\n",
       "      <th>State</th>\n",
       "      <th>Country</th>\n",
       "      <th>LinkedIn URL</th>\n",
       "      <th>Department</th>\n",
       "      <th>Email</th>\n",
       "    </tr>\n",
       "  </thead>\n",
       "  <tbody>\n",
       "    <tr>\n",
       "      <th>0</th>\n",
       "      <td>Peter</td>\n",
       "      <td>Yep</td>\n",
       "      <td>QA Engineer</td>\n",
       "      <td>SF</td>\n",
       "      <td>CA</td>\n",
       "      <td>USA</td>\n",
       "      <td>https://www.linkedin.com/in/peter-yep-38072aa3/</td>\n",
       "      <td></td>\n",
       "      <td></td>\n",
       "    </tr>\n",
       "    <tr>\n",
       "      <th>1</th>\n",
       "      <td>David</td>\n",
       "      <td>Randolph</td>\n",
       "      <td>Scrum Master</td>\n",
       "      <td>SF</td>\n",
       "      <td>CA</td>\n",
       "      <td>USA</td>\n",
       "      <td>https://www.linkedin.com/in/david-g-randolph/</td>\n",
       "      <td></td>\n",
       "      <td></td>\n",
       "    </tr>\n",
       "    <tr>\n",
       "      <th>2</th>\n",
       "      <td>Mihail</td>\n",
       "      <td>Selitrin</td>\n",
       "      <td>QA Engineer</td>\n",
       "      <td>SF</td>\n",
       "      <td>CA</td>\n",
       "      <td>USA</td>\n",
       "      <td>https://www.linkedin.com/in/mihailselitrin/</td>\n",
       "      <td></td>\n",
       "      <td></td>\n",
       "    </tr>\n",
       "    <tr>\n",
       "      <th>3</th>\n",
       "      <td>Greg</td>\n",
       "      <td>McTaggart</td>\n",
       "      <td>Android Engineer</td>\n",
       "      <td>SF</td>\n",
       "      <td>CA</td>\n",
       "      <td>USA</td>\n",
       "      <td>https://www.linkedin.com/in/greg-mctaggart-a32...</td>\n",
       "      <td></td>\n",
       "      <td></td>\n",
       "    </tr>\n",
       "    <tr>\n",
       "      <th>4</th>\n",
       "      <td>Gary</td>\n",
       "      <td>O.</td>\n",
       "      <td>IOS Engineer</td>\n",
       "      <td>SF</td>\n",
       "      <td>CA</td>\n",
       "      <td>USA</td>\n",
       "      <td>https://www.linkedin.com/in/garyolivera/</td>\n",
       "      <td></td>\n",
       "      <td></td>\n",
       "    </tr>\n",
       "    <tr>\n",
       "      <th>...</th>\n",
       "      <td>...</td>\n",
       "      <td>...</td>\n",
       "      <td>...</td>\n",
       "      <td>...</td>\n",
       "      <td>...</td>\n",
       "      <td>...</td>\n",
       "      <td>...</td>\n",
       "      <td>...</td>\n",
       "      <td>...</td>\n",
       "    </tr>\n",
       "    <tr>\n",
       "      <th>39</th>\n",
       "      <td>Megan</td>\n",
       "      <td>Nichols</td>\n",
       "      <td>Marketing,Account Manager,Marketing Manager,Ac...</td>\n",
       "      <td>LA</td>\n",
       "      <td>CA</td>\n",
       "      <td>USA</td>\n",
       "      <td>https://www.linkedin.com/in/mhnchols/</td>\n",
       "      <td>NaN</td>\n",
       "      <td>nichols.meganh@gmail.com</td>\n",
       "    </tr>\n",
       "    <tr>\n",
       "      <th>40</th>\n",
       "      <td>Sara</td>\n",
       "      <td>Luebke</td>\n",
       "      <td>Designer,Visual Designer</td>\n",
       "      <td>San Fran</td>\n",
       "      <td>CA</td>\n",
       "      <td>USA</td>\n",
       "      <td>www.linkedin.com/in/sara-luebke</td>\n",
       "      <td>NaN</td>\n",
       "      <td>saraeluebke@gmail.com</td>\n",
       "    </tr>\n",
       "    <tr>\n",
       "      <th>41</th>\n",
       "      <td>Holly</td>\n",
       "      <td>Fischer</td>\n",
       "      <td>Project Manager</td>\n",
       "      <td>San Fran</td>\n",
       "      <td>CA</td>\n",
       "      <td>USA</td>\n",
       "      <td>linkedin.com/in/holly-fischer-23a405b0</td>\n",
       "      <td>NaN</td>\n",
       "      <td>hollyfischer3@gmail.com</td>\n",
       "    </tr>\n",
       "    <tr>\n",
       "      <th>42</th>\n",
       "      <td>Dani</td>\n",
       "      <td>Ptasznik</td>\n",
       "      <td>Sales Development Representative,Sales,Custome...</td>\n",
       "      <td>NYC,San Fran</td>\n",
       "      <td>NY</td>\n",
       "      <td>USA</td>\n",
       "      <td>https://www.linkedin.com/in/dani-ptasznik-2106...</td>\n",
       "      <td>NaN</td>\n",
       "      <td>daniptasznik@gmail.com</td>\n",
       "    </tr>\n",
       "    <tr>\n",
       "      <th>43</th>\n",
       "      <td>Alyssa</td>\n",
       "      <td>Morris</td>\n",
       "      <td>Sales Manager,Sales,Creative Director,Project ...</td>\n",
       "      <td>NYC</td>\n",
       "      <td>NY</td>\n",
       "      <td>USA</td>\n",
       "      <td>https://www.linkedin.com/in/alyssa-morris-9334...</td>\n",
       "      <td>NaN</td>\n",
       "      <td>alyssasmorris@gmail.com</td>\n",
       "    </tr>\n",
       "  </tbody>\n",
       "</table>\n",
       "<p>168 rows × 9 columns</p>\n",
       "</div>"
      ],
      "text/plain": [
       "   First Name  Last Name                                          Job Title  \\\n",
       "0       Peter        Yep                                       QA Engineer    \n",
       "1       David   Randolph                                      Scrum Master    \n",
       "2      Mihail   Selitrin                                       QA Engineer    \n",
       "3        Greg  McTaggart                                  Android Engineer    \n",
       "4        Gary         O.                                      IOS Engineer    \n",
       "..        ...        ...                                                ...   \n",
       "39      Megan    Nichols  Marketing,Account Manager,Marketing Manager,Ac...   \n",
       "40       Sara     Luebke                           Designer,Visual Designer   \n",
       "41      Holly    Fischer                                    Project Manager   \n",
       "42       Dani   Ptasznik  Sales Development Representative,Sales,Custome...   \n",
       "43     Alyssa     Morris  Sales Manager,Sales,Creative Director,Project ...   \n",
       "\n",
       "        Location State Country  \\\n",
       "0             SF    CA     USA   \n",
       "1             SF    CA     USA   \n",
       "2             SF    CA     USA   \n",
       "3             SF    CA     USA   \n",
       "4             SF    CA     USA   \n",
       "..           ...   ...     ...   \n",
       "39            LA    CA     USA   \n",
       "40      San Fran    CA     USA   \n",
       "41      San Fran    CA     USA   \n",
       "42  NYC,San Fran    NY     USA   \n",
       "43           NYC    NY     USA   \n",
       "\n",
       "                                         LinkedIn URL Department  \\\n",
       "0     https://www.linkedin.com/in/peter-yep-38072aa3/              \n",
       "1       https://www.linkedin.com/in/david-g-randolph/              \n",
       "2         https://www.linkedin.com/in/mihailselitrin/              \n",
       "3   https://www.linkedin.com/in/greg-mctaggart-a32...              \n",
       "4            https://www.linkedin.com/in/garyolivera/              \n",
       "..                                                ...        ...   \n",
       "39              https://www.linkedin.com/in/mhnchols/        NaN   \n",
       "40                    www.linkedin.com/in/sara-luebke        NaN   \n",
       "41             linkedin.com/in/holly-fischer-23a405b0        NaN   \n",
       "42  https://www.linkedin.com/in/dani-ptasznik-2106...        NaN   \n",
       "43  https://www.linkedin.com/in/alyssa-morris-9334...        NaN   \n",
       "\n",
       "                       Email  \n",
       "0                             \n",
       "1                             \n",
       "2                             \n",
       "3                             \n",
       "4                             \n",
       "..                       ...  \n",
       "39  nichols.meganh@gmail.com  \n",
       "40     saraeluebke@gmail.com  \n",
       "41   hollyfischer3@gmail.com  \n",
       "42    daniptasznik@gmail.com  \n",
       "43   alyssasmorris@gmail.com  \n",
       "\n",
       "[168 rows x 9 columns]"
      ]
     },
     "execution_count": 27,
     "metadata": {},
     "output_type": "execute_result"
    }
   ],
   "source": [
    "final_dataframe"
   ]
  },
  {
   "cell_type": "code",
   "execution_count": 28,
   "metadata": {},
   "outputs": [],
   "source": [
    "final_dataframe.to_excel('first_draft_overall_dataframe_11May2020.xlsx')"
   ]
  },
  {
   "cell_type": "code",
   "execution_count": null,
   "metadata": {},
   "outputs": [],
   "source": []
  }
 ],
 "metadata": {
  "kernelspec": {
   "display_name": "Python 3",
   "language": "python",
   "name": "python3"
  },
  "language_info": {
   "codemirror_mode": {
    "name": "ipython",
    "version": 3
   },
   "file_extension": ".py",
   "mimetype": "text/x-python",
   "name": "python",
   "nbconvert_exporter": "python",
   "pygments_lexer": "ipython3",
   "version": "3.7.6"
  }
 },
 "nbformat": 4,
 "nbformat_minor": 4
}
